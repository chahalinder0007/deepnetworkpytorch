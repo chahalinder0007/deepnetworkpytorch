{
 "cells": [
  {
   "cell_type": "code",
   "execution_count": 1,
   "metadata": {},
   "outputs": [],
   "source": [
    "import pandas as pd\n",
    "from sklearn import preprocessing\n",
    "import tflearn,numpy as np\n",
    "import matplotlib.pyplot as plt\n",
    "from scipy.signal import savgol_filter\n",
    "import torch"
   ]
  },
  {
   "cell_type": "code",
   "execution_count": 2,
   "metadata": {},
   "outputs": [
    {
     "name": "stdout",
     "output_type": "stream",
     "text": [
      "Using matplotlib backend: Qt5Agg\n"
     ]
    }
   ],
   "source": [
    "%matplotlib"
   ]
  },
  {
   "cell_type": "code",
   "execution_count": 3,
   "metadata": {},
   "outputs": [],
   "source": [
    "main=pd.read_pickle(\"main_four.pickle\")\n",
    "columns=[\"a\",\" b\",\" c\",\" d\",\" e\",\" f\",\" g\",\" h\",\" i\",\" j\",\" k\",\" l\",\" m\",\" n\",\" o\",\" p\",\" q\",\" r\",\" s\",\" t\",\" u\",\" v\",\" w\",\" x\",\" y\",\" z\",\"z1\"]\n",
    "\n",
    "new_splited_only=pd.DataFrame(data=main.x.tolist(),columns=columns)"
   ]
  },
  {
   "cell_type": "code",
   "execution_count": null,
   "metadata": {},
   "outputs": [],
   "source": [
    "to_bar=[]#[columns[0],columns[4],columns[17],columns[24],columns[6],columns[7],columns[8],columns[10],columns[11],columns[13],columns[14]]#\" e\",\" g\",\" r\",\" u\",\" v\",\" y\"]\n",
    "emps=[]\n",
    "for i in columns:\n",
    "    if i in to_bar:\n",
    "        pass\n",
    "    else:\n",
    "        scaler=preprocessing.minmax_scale(X=new_splited_only[\"%s\"%i],feature_range=(0.2,1),)\n",
    "        #processed_column=scaler.transform(new_splited_only[\"%s\"%i])\n",
    "        emps.append(scaler)\n",
    "    \n",
    "scaled_frame=pd.DataFrame()\n",
    "for i in range(len(columns)-len(to_bar)):\n",
    "        scaled_frame[\"%s\"%columns[i]]=emps[i]\n",
    "    \n",
    "Y3=main.y.tolist()\n",
    "y_p=savgol_filter(Y3,11,3) "
   ]
  },
  {
   "cell_type": "code",
   "execution_count": 6,
   "metadata": {},
   "outputs": [],
   "source": [
    "Y=main.y.tolist()\n",
    "X=scaled_frame.values.tolist()\n",
    "X_test=X[52000:52500]\n",
    "\n",
    "Y_test=Y[52000:52500]\n",
    "Y_test=preprocessing.minmax_scale(Y_test,feature_range=(0.2,1)).tolist()\n",
    "Y_test=[[y] for y  in Y_test]\n",
    "X=X[:52000]\n",
    "Y=Y[:52000]\n",
    "Y=[[x] for x in y_p]\n",
    "y_processed=preprocessing.minmax_scale(Y,feature_range=(0.2,1))\n",
    "y=y_processed[:52000]\n",
    "Y_test=y_processed[52000:52500]\n",
    "x=torch.tensor(X)\n",
    "y=torch.tensor(y,dtype=torch.float64)\n",
    "X_test=torch.tensor(X_test)\n",
    "Y_test=torch.tensor(Y_test)"
   ]
  },
  {
   "cell_type": "code",
   "execution_count": 7,
   "metadata": {},
   "outputs": [],
   "source": [
    "class net(torch.nn.Module):\n",
    "    def __init__(self,D_in,H_nodes,D_out):\n",
    "        super(net,self).__init__()\n",
    "    \n",
    "        \n",
    "        \n",
    "        self.tol=torch.nn.Linear(D_in,27,bias=False)\n",
    "        self.tol.weight.data.fill_(.01)\n",
    "        \n",
    "        #self.linear1=torch.nn.Sequential(self.tol,torch.nn.Tanh())#,torch.nn.Dropout(0.2))\n",
    "        \n",
    "        #self.linear1=torch.nn.init.uniform_(self.linear1,0.1)\n",
    "        #self.dropout=torch.nn.Dropout()\n",
    "        \n",
    "        self.linear2=torch.nn.Linear(27,13,bias=False)\n",
    "        self.linear2.weight.data.fill_(0.01)\n",
    "        self.linear3=torch.nn.Linear(13,7,bias=False)\n",
    "        self.linear3.weight.data.fill_(0.01)\n",
    "        self.linear4=torch.nn.Linear(7,3,bias=False)\n",
    "        self.linear4.weight.data.fill_(0.01)\n",
    "        self.out=torch.nn.Linear(1,1,bias=False)\n",
    "        self.out.weight.data.fill_(1.0)\n",
    "        \n",
    "    def forward(self,x):\n",
    "        \n",
    "        indata=self.tol(x)\n",
    "        indata=torch.tanh(indata)\n",
    "        #indata1=torch.nn.Tanh(indata)\n",
    "        #indata1=self.dropout()\n",
    "        indata2=self.linear2(indata)\n",
    "        indata2=torch.tanh(indata2)\n",
    "        #indata2=torch.nn.Tanh(indata2)\n",
    "        \n",
    "        indata3=self.linear3(indata2)\n",
    "        indata3=torch.tanh(indata3)\n",
    "        #indata3=torch.nn.Tanh(indata3)\n",
    "        indata4=self.linear4(indata3)\n",
    "        indata4=torch.tanh(indata4)\n",
    "        #indata4=torch.nn.Tanh(indata4)\n",
    "        \n",
    "        #indataf=self.out(indata)\n",
    "        #indataf=torch.nn.Tanh(indataf)\n",
    "        \n",
    "        return indata\n",
    "    \n",
    "model=net(27,27,1)    \n",
    "losss=torch.nn.MSELoss()\n",
    "optimizer=torch.optim.Adam(model.parameters())       "
   ]
  },
  {
   "cell_type": "code",
   "execution_count": 8,
   "metadata": {},
   "outputs": [],
   "source": [
    "train_loss=[]\n",
    "test_loss=[]\n",
    "for i in range(300):\n",
    "    y_pred=model(x)\n",
    "    loss=losss(y_pred,y.float())\n",
    "    train_loss.append(loss.item())\n",
    "    #print(\"training loss:::\",loss.item())\n",
    "    new_loss=losss(model(X_test),Y_test.float())\n",
    "    test_loss.append(new_loss.item())\n",
    "    #print(\"::: test loss:::\",new_loss.item())\n",
    "    \n",
    "    optimizer.zero_grad()\n",
    "    loss.backward()\n",
    "    optimizer.step()\n",
    "    "
   ]
  },
  {
   "cell_type": "code",
   "execution_count": 9,
   "metadata": {},
   "outputs": [
    {
     "data": {
      "text/plain": [
       "[<matplotlib.lines.Line2D at 0x7fbb82ee2898>]"
      ]
     },
     "execution_count": 9,
     "metadata": {},
     "output_type": "execute_result"
    }
   ],
   "source": [
    "pre=model(x)\n",
    "plt.plot(pre.detach().numpy())\n",
    "plt.plot(y_processed)"
   ]
  }
 ],
 "metadata": {
  "kernelspec": {
   "display_name": "Python 3",
   "language": "python",
   "name": "python3"
  },
  "language_info": {
   "codemirror_mode": {
    "name": "ipython",
    "version": 3
   },
   "file_extension": ".py",
   "mimetype": "text/x-python",
   "name": "python",
   "nbconvert_exporter": "python",
   "pygments_lexer": "ipython3",
   "version": "3.6.7"
  }
 },
 "nbformat": 4,
 "nbformat_minor": 2
}
